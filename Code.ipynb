{
 "cells": [
  {
   "cell_type": "code",
   "execution_count": 59,
   "metadata": {},
   "outputs": [],
   "source": [
    "import pandas as pd\n",
    "import numpy as np\n",
    "import urllib.request\n",
    "import validators"
   ]
  },
  {
   "cell_type": "code",
   "execution_count": 60,
   "metadata": {},
   "outputs": [],
   "source": [
    "#grab data and add to a list\n",
    "file_path = \"archive/\"\n",
    "file_name = [\"2010.csv\", \"2011.csv\", \"2012.csv\", \"2013.csv\", \"2014.csv\", \"2015.csv\", \"2016.csv\", \"2017.csv\", \"2018.csv\", \"2019.csv\", \"2020.csv\", \"2021.csv\"]\n",
    "df_array = []\n",
    "for i in range(len(file_name)):\n",
    "    temp = pd.read_csv(file_path +file_name[i])\n",
    "    df_array.append(temp)"
   ]
  },
  {
   "cell_type": "markdown",
   "metadata": {},
   "source": [
    "### Q1: Estimate the average number of people that 'like' any given tweet by Elon Musk."
   ]
  },
  {
   "cell_type": "code",
   "execution_count": 61,
   "metadata": {},
   "outputs": [
    {
     "name": "stdout",
     "output_type": "stream",
     "text": [
      "14705.224845614524\n"
     ]
    }
   ],
   "source": [
    "count_like = 0\n",
    "count_post = 0 \n",
    "for df in df_array:\n",
    "    count_post += len(df)\n",
    "    count_like += np.sum(np.array(df[\"nlikes\"]))\n",
    "\n",
    "avg = count_like/count_post\n",
    "print(avg)"
   ]
  },
  {
   "cell_type": "markdown",
   "metadata": {},
   "source": [
    "### Q2: From the above, estimate how many people view one of his tweets, on average. Assume that engagement rate, calculated by summing likes, replies, and retweets, and dividing by views, is roughly .05 for any given tweet."
   ]
  },
  {
   "cell_type": "code",
   "execution_count": 62,
   "metadata": {},
   "outputs": [
    {
     "name": "stdout",
     "output_type": "stream",
     "text": [
      "338864.2596461903\n"
     ]
    }
   ],
   "source": [
    "engagement_rate = 0.05\n",
    "#Estimate how many people view one of his tweets\n",
    "#EngagementRate = (likes+replies+retweets)/views\n",
    "count_replies = 0\n",
    "count_retweet = 0\n",
    "for df in df_array:\n",
    "    count_replies += np.sum(np.array(df[\"nreplies\"]))\n",
    "    count_retweet += np.sum(np.array(df[\"nretweets\"]))\n",
    "tot =  count_like + count_replies + count_retweet\n",
    "view =  tot/engagement_rate\n",
    "avg_peop = view/count_post\n",
    "print(avg_peop)"
   ]
  },
  {
   "cell_type": "markdown",
   "metadata": {},
   "source": [
    "### Q3: Estimate the average amount of data (in megabytes) stored for each Elon Musk tweet. Consider the sizes and types of any attached media."
   ]
  },
  {
   "cell_type": "code",
   "execution_count": 75,
   "metadata": {},
   "outputs": [
    {
     "name": "stdout",
     "output_type": "stream",
     "text": [
      "19.550168490969032\n"
     ]
    }
   ],
   "source": [
    "\n",
    "total_pic_size = 0\n",
    "total_url_size = 0\n",
    "total_tweet_size = 0\n",
    "total_vid = 0\n",
    "for df in df_array:\n",
    "    for photos in df[\"photos\"]:\n",
    "        if(validators.url(photos)):\n",
    "            file = urllib.request.urlopen(photos)\n",
    "            total_pic_size += file.length\n",
    "    for tweet in df[\"tweet\"]:\n",
    "        total_tweet_size += len(tweet)\n",
    "    for link in df[\"urls\"]:\n",
    "        if(validators.url(link)):\n",
    "            url = urllib.request.urlopen(link)\n",
    "            total_url_size += file.length\n",
    "    total_vid += np.sum(np.array(df[\"video\"]))\n",
    "total_vid*= 300\n",
    "total = ((total_pic_size + total_url_size + total_tweet_size) / 1000000) + total_vid\n",
    "print(total/count_post)"
   ]
  },
  {
   "cell_type": "markdown",
   "metadata": {},
   "source": [
    "### Q4: Should be the same as Q3\n"
   ]
  },
  {
   "cell_type": "code",
   "execution_count": null,
   "metadata": {},
   "outputs": [],
   "source": []
  },
  {
   "cell_type": "markdown",
   "metadata": {},
   "source": [
    "### Q5: Estimate how many Elon tweets are viewed, perminute,by the site's userbase."
   ]
  },
  {
   "cell_type": "code",
   "execution_count": 56,
   "metadata": {},
   "outputs": [
    {
     "name": "stdout",
     "output_type": "stream",
     "text": [
      "17.061699000173682\n"
     ]
    }
   ],
   "source": [
    "year = 11\n",
    "year_in_minute =  year*525600\n",
    "#assume all the post are viewed\n",
    "view_per_min = (view/year_in_minute)\n",
    "#other answer is 0.007\n",
    "print(view_per_min)"
   ]
  },
  {
   "cell_type": "markdown",
   "metadata": {},
   "source": [
    "### Q6: Using the above, estimate how much data is accessed per-minute by Twitter in the process of displaying Elon Musk tweets."
   ]
  },
  {
   "cell_type": "code",
   "execution_count": 65,
   "metadata": {},
   "outputs": [],
   "source": [
    "#ughhh"
   ]
  },
  {
   "cell_type": "markdown",
   "metadata": {},
   "source": [
    "### Q7"
   ]
  },
  {
   "cell_type": "code",
   "execution_count": null,
   "metadata": {},
   "outputs": [],
   "source": [
    "#this function will change the number of like in 1 tweet\n",
    "def change_nlike(df,id, like):\n",
    "    #user pass in a dataframe (assume it's the database where it stores all elon's tweets in a year)\n",
    "    #id is the conversation id\n",
    "    #like is the value the user want to change to\n",
    "    for i in range(len(df)):\n",
    "        if(df[i][\"conversation id\"] == id):\n",
    "            df[i][\"nlikes\"] = like\n",
    "            break\n",
    "    return \"Success\""
   ]
  },
  {
   "cell_type": "code",
   "execution_count": null,
   "metadata": {},
   "outputs": [],
   "source": []
  }
 ],
 "metadata": {
  "interpreter": {
   "hash": "e3f9018789f6275f2db0ac0b0382525a1eb67281e9146fe6ee89b3e4caea4339"
  },
  "kernelspec": {
   "display_name": "Python 3.9.6 64-bit ('cs498': venv)",
   "language": "python",
   "name": "python3"
  },
  "language_info": {
   "codemirror_mode": {
    "name": "ipython",
    "version": 3
   },
   "file_extension": ".py",
   "mimetype": "text/x-python",
   "name": "python",
   "nbconvert_exporter": "python",
   "pygments_lexer": "ipython3",
   "version": "3.9.6"
  },
  "orig_nbformat": 4
 },
 "nbformat": 4,
 "nbformat_minor": 2
}
