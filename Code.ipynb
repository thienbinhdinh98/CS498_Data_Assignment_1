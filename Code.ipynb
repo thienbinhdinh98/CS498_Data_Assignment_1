{
 "cells": [
  {
   "cell_type": "code",
   "execution_count": 3,
   "metadata": {},
   "outputs": [],
   "source": [
    "import pandas as pd\n",
    "import numpy as np"
   ]
  },
  {
   "cell_type": "markdown",
   "metadata": {},
   "source": [
    "### Q1: Estimate the average number of people that 'like' any given tweet by Elon Musk."
   ]
  },
  {
   "cell_type": "code",
   "execution_count": 12,
   "metadata": {},
   "outputs": [],
   "source": [
    "#grab data and add to a list\n",
    "file_path = \"archive/\"\n",
    "file_name = [\"2010.csv\", \"2011.csv\", \"2012.csv\", \"2013.csv\", \"2014.csv\", \"2015.csv\", \"2016.csv\", \"2017.csv\", \"2018.csv\", \"2019.csv\", \"2020.csv\", \"2021.csv\"]\n",
    "df_array = []\n",
    "for i in range(len(file_name)):\n",
    "    temp = pd.read_csv(file_path +file_name[i])\n",
    "    df_array.append(temp)"
   ]
  },
  {
   "cell_type": "code",
   "execution_count": 15,
   "metadata": {},
   "outputs": [
    {
     "name": "stdout",
     "output_type": "stream",
     "text": [
      "14705.224845614524\n"
     ]
    }
   ],
   "source": [
    "count_like = 0\n",
    "count_post = 0 \n",
    "for df in df_array:\n",
    "    count_post += len(df)\n",
    "    count_like += np.sum(np.array(df[\"nlikes\"]))\n",
    "\n",
    "avg = count_like/count_post\n",
    "print(avg)"
   ]
  },
  {
   "cell_type": "code",
   "execution_count": null,
   "metadata": {},
   "outputs": [],
   "source": []
  }
 ],
 "metadata": {
  "interpreter": {
   "hash": "e3f9018789f6275f2db0ac0b0382525a1eb67281e9146fe6ee89b3e4caea4339"
  },
  "kernelspec": {
   "display_name": "Python 3.9.6 64-bit ('cs498': venv)",
   "language": "python",
   "name": "python3"
  },
  "language_info": {
   "codemirror_mode": {
    "name": "ipython",
    "version": 3
   },
   "file_extension": ".py",
   "mimetype": "text/x-python",
   "name": "python",
   "nbconvert_exporter": "python",
   "pygments_lexer": "ipython3",
   "version": "3.9.6"
  },
  "orig_nbformat": 4
 },
 "nbformat": 4,
 "nbformat_minor": 2
}
