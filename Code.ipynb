{
 "cells": [
  {
   "cell_type": "code",
   "execution_count": 40,
   "metadata": {},
   "outputs": [],
   "source": [
    "import pandas as pd\n",
    "import numpy as np"
   ]
  },
  {
   "cell_type": "code",
   "execution_count": 41,
   "metadata": {},
   "outputs": [],
   "source": [
    "#grab data and add to a list\n",
    "file_path = \"archive/\"\n",
    "file_name = [\"2010.csv\", \"2011.csv\", \"2012.csv\", \"2013.csv\", \"2014.csv\", \"2015.csv\", \"2016.csv\", \"2017.csv\", \"2018.csv\", \"2019.csv\", \"2020.csv\", \"2021.csv\"]\n",
    "df_array = []\n",
    "for i in range(len(file_name)):\n",
    "    temp = pd.read_csv(file_path +file_name[i])\n",
    "    df_array.append(temp)"
   ]
  },
  {
   "cell_type": "markdown",
   "metadata": {},
   "source": [
    "### Q1: Estimate the average number of people that 'like' any given tweet by Elon Musk."
   ]
  },
  {
   "cell_type": "code",
   "execution_count": 42,
   "metadata": {},
   "outputs": [
    {
     "name": "stdout",
     "output_type": "stream",
     "text": [
      "14705.224845614524\n"
     ]
    }
   ],
   "source": [
    "count_like = 0\n",
    "count_post = 0 \n",
    "for df in df_array:\n",
    "    count_post += len(df)\n",
    "    count_like += np.sum(np.array(df[\"nlikes\"]))\n",
    "\n",
    "avg = count_like/count_post\n",
    "print(avg)"
   ]
  },
  {
   "cell_type": "markdown",
   "metadata": {},
   "source": [
    "### Q2: From the above, estimate how many people view one of his tweets, on average. Assume that engagement rate, calculated by summing likes, replies, and retweets, and dividing by views, is roughly .05 for any given tweet."
   ]
  },
  {
   "cell_type": "code",
   "execution_count": 43,
   "metadata": {},
   "outputs": [
    {
     "name": "stdout",
     "output_type": "stream",
     "text": [
      "338864.2596461903\n"
     ]
    }
   ],
   "source": [
    "engagement_rate = 0.05\n",
    "#Estimate how many people view one of his tweets\n",
    "#EngagementRate = (likes+replies+retweets)/views\n",
    "count_replies = 0\n",
    "count_retweet = 0\n",
    "for df in df_array:\n",
    "    count_replies += np.sum(np.array(df[\"nreplies\"]))\n",
    "    count_retweet += np.sum(np.array(df[\"nretweets\"]))\n",
    "tot =  count_like + count_replies + count_retweet\n",
    "view =  tot/engagement_rate\n",
    "avg_peop = view/count_post\n",
    "print(avg_peop)"
   ]
  },
  {
   "cell_type": "markdown",
   "metadata": {},
   "source": [
    "### Q3: Estimate the average amount of data (in megabytes) stored for each Elon Musk tweet. Consider the sizes and types of any attached media."
   ]
  },
  {
   "cell_type": "code",
   "execution_count": 44,
   "metadata": {},
   "outputs": [
    {
     "name": "stdout",
     "output_type": "stream",
     "text": [
      "0                                                    []\n",
      "1                                                    []\n",
      "2     ['https://pbs.twimg.com/media/Ahmp9qtCAAAYPDX....\n",
      "3     ['https://pbs.twimg.com/media/AhmoamaCQAANvSt....\n",
      "4                                                    []\n",
      "5                                                    []\n",
      "6                                                    []\n",
      "7                                                    []\n",
      "8                                                    []\n",
      "9                                                    []\n",
      "10    ['https://pbs.twimg.com/media/AhZIrMMCQAAayCv....\n",
      "11    ['https://pbs.twimg.com/media/AhQ_A75CQAAYXlN....\n",
      "12    ['https://pbs.twimg.com/media/AhQnPFbCIAAEyYJ....\n",
      "13                                                   []\n",
      "14                                                   []\n",
      "15                                                   []\n",
      "16                                                   []\n",
      "17                                                   []\n",
      "18                                                   []\n",
      "19                                                   []\n",
      "20                                                   []\n",
      "21                                                   []\n",
      "22                                                   []\n",
      "23                                                   []\n",
      "24                                                   []\n",
      "25    ['https://pbs.twimg.com/media/Afkf5DMCAAEJGFr....\n",
      "26                                                   []\n",
      "Name: photos, dtype: object\n"
     ]
    }
   ],
   "source": [
    "print(df_array[1][\"photos\"])"
   ]
  },
  {
   "cell_type": "code",
   "execution_count": 45,
   "metadata": {},
   "outputs": [
    {
     "name": "stdout",
     "output_type": "stream",
     "text": [
      "0.5166017693504202\n"
     ]
    }
   ],
   "source": [
    "count_tweet_k_bytes = 0\n",
    "count_pic = 0\n",
    "count_url_k_bytes = 0\n",
    "for df in df_array:\n",
    "    count_tweet_bytes = 0\n",
    "    count_url_bytes = 0\n",
    "    for photos in df[\"photos\"]:\n",
    "        for k in photos:\n",
    "            count_pic += len(k)\n",
    "    for tweet in df[\"tweet\"]:\n",
    "        t =  len(tweet)\n",
    "        count_tweet_bytes+= t\n",
    "    for link in df[\"urls\"]:\n",
    "        for url in link:\n",
    "            count_url_bytes += len(url)\n",
    "    count_url_k_bytes += (count_url_bytes/1000)\n",
    "    count_tweet_k_bytes += (count_tweet_bytes/1000)\n",
    "count_tweet_megabytes =  count_tweet_k_bytes/1000\n",
    "count_url_megabytes = count_url_k_bytes/1000\n",
    "#assume each pic is 100kb\n",
    "count_pic_megabytes =  (count_pic*100)/1000\n",
    "total_in_mb =  count_tweet_megabytes+count_pic_megabytes+count_url_megabytes\n",
    "ans = total_in_mb/count_post\n",
    "print(ans)"
   ]
  },
  {
   "cell_type": "markdown",
   "metadata": {},
   "source": [
    "### Q4: Should be the same as Q3\n"
   ]
  },
  {
   "cell_type": "code",
   "execution_count": null,
   "metadata": {},
   "outputs": [],
   "source": []
  },
  {
   "cell_type": "markdown",
   "metadata": {},
   "source": [
    "### Q5: Estimate how many Elon tweets are viewed, perminute,by the site's userbase."
   ]
  },
  {
   "cell_type": "code",
   "execution_count": 50,
   "metadata": {},
   "outputs": [
    {
     "name": "stdout",
     "output_type": "stream",
     "text": [
      "17.061699000173682\n"
     ]
    }
   ],
   "source": [
    "year = 11\n",
    "year_in_minute =  year*525600\n",
    "#assume all the post are viewed\n",
    "view_per_min = (view/year_in_minute)\n",
    "tweet_vpm = count_post/view_per_min\n",
    "#other answer is 0.007\n",
    "print(tweet_vpm)"
   ]
  },
  {
   "cell_type": "markdown",
   "metadata": {},
   "source": [
    "### Q6: Using the above, estimate how much data is accessed per-minute by Twitter in the process of displaying Elon Musk tweets."
   ]
  },
  {
   "cell_type": "markdown",
   "metadata": {},
   "source": []
  }
 ],
 "metadata": {
  "interpreter": {
   "hash": "e3f9018789f6275f2db0ac0b0382525a1eb67281e9146fe6ee89b3e4caea4339"
  },
  "kernelspec": {
   "display_name": "Python 3.9.6 64-bit ('cs498': venv)",
   "language": "python",
   "name": "python3"
  },
  "language_info": {
   "codemirror_mode": {
    "name": "ipython",
    "version": 3
   },
   "file_extension": ".py",
   "mimetype": "text/x-python",
   "name": "python",
   "nbconvert_exporter": "python",
   "pygments_lexer": "ipython3",
   "version": "3.9.6"
  },
  "orig_nbformat": 4
 },
 "nbformat": 4,
 "nbformat_minor": 2
}
