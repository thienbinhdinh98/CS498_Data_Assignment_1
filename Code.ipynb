{
 "cells": [
  {
   "cell_type": "code",
   "execution_count": 3,
   "metadata": {},
   "outputs": [],
   "source": [
    "import pandas as pd\n",
    "import numpy as np"
   ]
  },
  {
   "cell_type": "code",
   "execution_count": 16,
   "metadata": {},
   "outputs": [],
   "source": [
    "#grab data and add to a list\n",
    "file_path = \"archive/\"\n",
    "file_name = [\"2010.csv\", \"2011.csv\", \"2012.csv\", \"2013.csv\", \"2014.csv\", \"2015.csv\", \"2016.csv\", \"2017.csv\", \"2018.csv\", \"2019.csv\", \"2020.csv\", \"2021.csv\"]\n",
    "df_array = []\n",
    "for i in range(len(file_name)):\n",
    "    temp = pd.read_csv(file_path +file_name[i])\n",
    "    df_array.append(temp)"
   ]
  },
  {
   "cell_type": "markdown",
   "metadata": {},
   "source": [
    "### Q1: Estimate the average number of people that 'like' any given tweet by Elon Musk."
   ]
  },
  {
   "cell_type": "code",
   "execution_count": 17,
   "metadata": {},
   "outputs": [
    {
     "name": "stdout",
     "output_type": "stream",
     "text": [
      "14705.224845614524\n"
     ]
    }
   ],
   "source": [
    "count_like = 0\n",
    "count_post = 0 \n",
    "for df in df_array:\n",
    "    count_post += len(df)\n",
    "    count_like += np.sum(np.array(df[\"nlikes\"]))\n",
    "\n",
    "avg = count_like/count_post\n",
    "print(avg)"
   ]
  },
  {
   "cell_type": "markdown",
   "metadata": {},
   "source": [
    "### Q2: From the above, estimate how many people view one of his tweets, on average. Assume that engagement rate, calculated by summing likes, replies, and retweets, and dividing by views, is roughly .05 for any given tweet."
   ]
  },
  {
   "cell_type": "code",
   "execution_count": 20,
   "metadata": {},
   "outputs": [
    {
     "name": "stdout",
     "output_type": "stream",
     "text": [
      "338864.2596461903\n"
     ]
    }
   ],
   "source": [
    "engagement_rate = 0.05\n",
    "#Estimate how many people view one of his tweets\n",
    "#EngagementRate = (likes+replies+retweets)/views\n",
    "count_replies = 0\n",
    "count_retweet = 0\n",
    "for df in df_array:\n",
    "    count_replies += np.sum(np.array(df[\"nreplies\"]))\n",
    "    count_retweet += np.sum(np.array(df[\"nretweets\"]))\n",
    "tot =  count_like + count_replies + count_retweet\n",
    "view =  tot/engagement_rate\n",
    "avg_peop = view/count_post\n",
    "print(avg_peop)\n",
    "\n"
   ]
  },
  {
   "cell_type": "code",
   "execution_count": null,
   "metadata": {},
   "outputs": [],
   "source": []
  }
 ],
 "metadata": {
  "interpreter": {
   "hash": "e3f9018789f6275f2db0ac0b0382525a1eb67281e9146fe6ee89b3e4caea4339"
  },
  "kernelspec": {
   "display_name": "Python 3.9.6 64-bit ('cs498': venv)",
   "language": "python",
   "name": "python3"
  },
  "language_info": {
   "codemirror_mode": {
    "name": "ipython",
    "version": 3
   },
   "file_extension": ".py",
   "mimetype": "text/x-python",
   "name": "python",
   "nbconvert_exporter": "python",
   "pygments_lexer": "ipython3",
   "version": "3.9.6"
  },
  "orig_nbformat": 4
 },
 "nbformat": 4,
 "nbformat_minor": 2
}
